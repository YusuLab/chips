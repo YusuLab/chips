{
 "cells": [
  {
   "cell_type": "code",
   "execution_count": 449,
   "id": "441f72c2-c5f7-4674-b94e-57b2bdb50d81",
   "metadata": {},
   "outputs": [],
   "source": [
    "import os\n",
    "import numpy as np\n",
    "import pickle\n",
    "import torch\n",
    "import torch.nn\n",
    "from torch_geometric.data import Dataset\n",
    "from torch_geometric.data import Data, HeteroData\n",
    "from torch_geometric.loader import NeighborLoader\n",
    "from torch_geometric.nn.conv.gcn_conv import gcn_norm\n",
    "from utils import *\n",
    "import torch.nn as nn\n",
    "import torch.optim as optim\n",
    "import wandb\n",
    "from tqdm import tqdm\n",
    "\n",
    "import sys\n",
    "sys.path.insert(1, 'data/')\n",
    "\n",
    "from pyg_dataset import NetlistDataset\n",
    "\n",
    "sys.path.append(\"models/layers/\")\n",
    "from models.model import GNN_node"
   ]
  },
  {
   "cell_type": "code",
   "execution_count": 450,
   "id": "4fda12df-5a45-4b15-bb27-84e6cbae2ae7",
   "metadata": {
    "scrolled": true
   },
   "outputs": [
    {
     "name": "stdout",
     "output_type": "stream",
     "text": [
      "The autoreload extension is already loaded. To reload it, use:\n",
      "  %reload_ext autoreload\n"
     ]
    }
   ],
   "source": [
    "%load_ext autoreload\n",
    "%autoreload 2"
   ]
  },
  {
   "cell_type": "code",
   "execution_count": 451,
   "id": "65dc60e5-075e-4b54-931f-00a48694964c",
   "metadata": {},
   "outputs": [],
   "source": [
    "import sys\n",
    "sys.path.insert(1, 'data/')"
   ]
  },
  {
   "cell_type": "code",
   "execution_count": 452,
   "id": "4444d1a4-bdcb-4746-aa7b-05dcee3bba26",
   "metadata": {},
   "outputs": [],
   "source": [
    "from pyg_dataset import NetlistDataset"
   ]
  },
  {
   "cell_type": "code",
   "execution_count": 453,
   "id": "6fa160f8-da59-49c0-9c7d-99420c29be41",
   "metadata": {
    "scrolled": true
   },
   "outputs": [
    {
     "name": "stderr",
     "output_type": "stream",
     "text": [
      "100%|████████████████████████████████████████████████████████████████████████████████████████████████████████████████████████████████████████████████████████████████████████████████| 1/1 [00:00<00:00,  8.46it/s]\n"
     ]
    }
   ],
   "source": [
    "dataset = NetlistDataset(data_dir=\"data/processed_datasets\", load_pe = True, pl = True, processed = True, load_indices=[0])"
   ]
  },
  {
   "cell_type": "code",
   "execution_count": 454,
   "id": "e0c69b03-0e32-4569-a272-ff086e8e37f8",
   "metadata": {},
   "outputs": [
    {
     "name": "stderr",
     "output_type": "stream",
     "text": [
      "100%|████████████████████████████████████████████████████████████████████████████████████████████████████████████████████████████████████████████████████████████████████████████████| 1/1 [00:00<00:00,  6.02it/s]\n"
     ]
    }
   ],
   "source": [
    "h_dataset = []\n",
    "for data in tqdm(dataset):\n",
    "    num_instances = data.node_congestion.shape[0]\n",
    "    data.num_instances = num_instances\n",
    "    data.edge_index_source_to_net[1] = data.edge_index_source_to_net[1] - num_instances\n",
    "    data.edge_index_sink_to_net[1] = data.edge_index_sink_to_net[1] - num_instances\n",
    "\n",
    "    h_data = HeteroData()\n",
    "    h_data['node'].x = data.node_features\n",
    "    h_data['node'].y = data.node_congestion\n",
    "    \n",
    "    h_data['net'].x = data.net_features\n",
    "    h_data['net'].y = data.net_hpwl\n",
    "    \n",
    "    h_data['node', 'as_a_sink_of', 'net'].edge_index, h_data['node', 'as_a_sink_of', 'net'].edge_weight = gcn_norm(data.edge_index_sink_to_net, add_self_loops=False)\n",
    "    h_data['node', 'as_a_source_of', 'net'].edge_index = data.edge_index_source_to_net\n",
    "\n",
    "    h_data.batch = data.batch\n",
    "    h_data.num_vn = data.num_vn\n",
    "    h_data.num_instances = num_instances\n",
    "    h_dataset.append(h_data)"
   ]
  },
  {
   "cell_type": "code",
   "execution_count": 455,
   "id": "29b3350b-3621-4694-b99b-4f6c86da3a96",
   "metadata": {},
   "outputs": [],
   "source": [
    "sys.path.append(\"models/layers/\")"
   ]
  },
  {
   "cell_type": "code",
   "execution_count": 456,
   "id": "35499f5a-c13d-4e35-b082-38ad8fc7b94d",
   "metadata": {},
   "outputs": [],
   "source": [
    "from models.model import GNN_node"
   ]
  },
  {
   "cell_type": "code",
   "execution_count": 463,
   "id": "ac1e8a2b-e558-47ac-a749-3cbe4611c46a",
   "metadata": {},
   "outputs": [],
   "source": [
    "device = \"cpu\""
   ]
  },
  {
   "cell_type": "code",
   "execution_count": 464,
   "id": "016d9327-85c0-486e-8b04-a023d11b3388",
   "metadata": {},
   "outputs": [],
   "source": [
    "data = dataset[0]"
   ]
  },
  {
   "cell_type": "code",
   "execution_count": 465,
   "id": "cae9e7dc-4958-494f-875c-b9f0e386c0d6",
   "metadata": {},
   "outputs": [],
   "source": [
    "model = GNN_node(4, 32, 8, 1, node_dim = data.node_features.shape[1], net_dim = data.net_features.shape[1], vn=True).to(device)"
   ]
  },
  {
   "cell_type": "code",
   "execution_count": 466,
   "id": "653149f1-62a4-4470-9938-3b60dfdd1325",
   "metadata": {},
   "outputs": [],
   "source": [
    "criterion_node = nn.CrossEntropyLoss()\n",
    "criterion_net = nn.MSELoss()\n",
    "optimizer = optim.Adam(model.parameters(), lr=0.001)"
   ]
  },
  {
   "cell_type": "code",
   "execution_count": 467,
   "id": "55b1930d-c195-4f3a-872d-a39644b67813",
   "metadata": {},
   "outputs": [],
   "source": [
    "data = h_data"
   ]
  },
  {
   "cell_type": "code",
   "execution_count": 468,
   "id": "0ae5ae64-4c8d-4897-a74a-e31e6c5195c6",
   "metadata": {},
   "outputs": [
    {
     "ename": "RuntimeError",
     "evalue": "Attempting CUDA graph capture of step() for an instance of Adam but this instance was constructed with capturable=False.",
     "output_type": "error",
     "traceback": [
      "\u001b[0;31m---------------------------------------------------------------------------\u001b[0m",
      "\u001b[0;31mRuntimeError\u001b[0m                              Traceback (most recent call last)",
      "Cell \u001b[0;32mIn[468], line 9\u001b[0m\n\u001b[1;32m      7\u001b[0m loss \u001b[38;5;241m=\u001b[39m loss_node \u001b[38;5;241m+\u001b[39m \u001b[38;5;241m0.001\u001b[39m\u001b[38;5;241m*\u001b[39mloss_net\n\u001b[1;32m      8\u001b[0m loss\u001b[38;5;241m.\u001b[39mbackward()\n\u001b[0;32m----> 9\u001b[0m \u001b[43moptimizer\u001b[49m\u001b[38;5;241;43m.\u001b[39;49m\u001b[43mstep\u001b[49m\u001b[43m(\u001b[49m\u001b[43m)\u001b[49m   \n\u001b[1;32m     11\u001b[0m model\u001b[38;5;241m.\u001b[39meval()\n\u001b[1;32m     12\u001b[0m node_representation, net_representation \u001b[38;5;241m=\u001b[39m model(data, device)\n",
      "File \u001b[0;32m~/anaconda3/lib/python3.8/site-packages/torch/optim/optimizer.py:140\u001b[0m, in \u001b[0;36mOptimizer._hook_for_profile.<locals>.profile_hook_step.<locals>.wrapper\u001b[0;34m(*args, **kwargs)\u001b[0m\n\u001b[1;32m    138\u001b[0m profile_name \u001b[38;5;241m=\u001b[39m \u001b[38;5;124m\"\u001b[39m\u001b[38;5;124mOptimizer.step#\u001b[39m\u001b[38;5;132;01m{}\u001b[39;00m\u001b[38;5;124m.step\u001b[39m\u001b[38;5;124m\"\u001b[39m\u001b[38;5;241m.\u001b[39mformat(obj\u001b[38;5;241m.\u001b[39m\u001b[38;5;18m__class__\u001b[39m\u001b[38;5;241m.\u001b[39m\u001b[38;5;18m__name__\u001b[39m)\n\u001b[1;32m    139\u001b[0m \u001b[38;5;28;01mwith\u001b[39;00m torch\u001b[38;5;241m.\u001b[39mautograd\u001b[38;5;241m.\u001b[39mprofiler\u001b[38;5;241m.\u001b[39mrecord_function(profile_name):\n\u001b[0;32m--> 140\u001b[0m     out \u001b[38;5;241m=\u001b[39m \u001b[43mfunc\u001b[49m\u001b[43m(\u001b[49m\u001b[38;5;241;43m*\u001b[39;49m\u001b[43margs\u001b[49m\u001b[43m,\u001b[49m\u001b[43m \u001b[49m\u001b[38;5;241;43m*\u001b[39;49m\u001b[38;5;241;43m*\u001b[39;49m\u001b[43mkwargs\u001b[49m\u001b[43m)\u001b[49m\n\u001b[1;32m    141\u001b[0m     obj\u001b[38;5;241m.\u001b[39m_optimizer_step_code()\n\u001b[1;32m    142\u001b[0m     \u001b[38;5;28;01mreturn\u001b[39;00m out\n",
      "File \u001b[0;32m~/anaconda3/lib/python3.8/site-packages/torch/optim/optimizer.py:23\u001b[0m, in \u001b[0;36m_use_grad_for_differentiable.<locals>._use_grad\u001b[0;34m(self, *args, **kwargs)\u001b[0m\n\u001b[1;32m     21\u001b[0m \u001b[38;5;28;01mtry\u001b[39;00m:\n\u001b[1;32m     22\u001b[0m     torch\u001b[38;5;241m.\u001b[39mset_grad_enabled(\u001b[38;5;28mself\u001b[39m\u001b[38;5;241m.\u001b[39mdefaults[\u001b[38;5;124m'\u001b[39m\u001b[38;5;124mdifferentiable\u001b[39m\u001b[38;5;124m'\u001b[39m])\n\u001b[0;32m---> 23\u001b[0m     ret \u001b[38;5;241m=\u001b[39m \u001b[43mfunc\u001b[49m\u001b[43m(\u001b[49m\u001b[38;5;28;43mself\u001b[39;49m\u001b[43m,\u001b[49m\u001b[43m \u001b[49m\u001b[38;5;241;43m*\u001b[39;49m\u001b[43margs\u001b[49m\u001b[43m,\u001b[49m\u001b[43m \u001b[49m\u001b[38;5;241;43m*\u001b[39;49m\u001b[38;5;241;43m*\u001b[39;49m\u001b[43mkwargs\u001b[49m\u001b[43m)\u001b[49m\n\u001b[1;32m     24\u001b[0m \u001b[38;5;28;01mfinally\u001b[39;00m:\n\u001b[1;32m     25\u001b[0m     torch\u001b[38;5;241m.\u001b[39mset_grad_enabled(prev_grad)\n",
      "File \u001b[0;32m~/anaconda3/lib/python3.8/site-packages/torch/optim/adam.py:178\u001b[0m, in \u001b[0;36mAdam.step\u001b[0;34m(self, closure, grad_scaler)\u001b[0m\n\u001b[1;32m    168\u001b[0m \u001b[38;5;129m@_use_grad_for_differentiable\u001b[39m\n\u001b[1;32m    169\u001b[0m \u001b[38;5;28;01mdef\u001b[39;00m \u001b[38;5;21mstep\u001b[39m(\u001b[38;5;28mself\u001b[39m, closure\u001b[38;5;241m=\u001b[39m\u001b[38;5;28;01mNone\u001b[39;00m, \u001b[38;5;241m*\u001b[39m, grad_scaler\u001b[38;5;241m=\u001b[39m\u001b[38;5;28;01mNone\u001b[39;00m):\n\u001b[1;32m    170\u001b[0m \u001b[38;5;250m    \u001b[39m\u001b[38;5;124;03m\"\"\"Performs a single optimization step.\u001b[39;00m\n\u001b[1;32m    171\u001b[0m \n\u001b[1;32m    172\u001b[0m \u001b[38;5;124;03m    Args:\u001b[39;00m\n\u001b[0;32m   (...)\u001b[0m\n\u001b[1;32m    176\u001b[0m \u001b[38;5;124;03m            supplied from ``grad_scaler.step(optimizer)``.\u001b[39;00m\n\u001b[1;32m    177\u001b[0m \u001b[38;5;124;03m    \"\"\"\u001b[39;00m\n\u001b[0;32m--> 178\u001b[0m     \u001b[38;5;28;43mself\u001b[39;49m\u001b[38;5;241;43m.\u001b[39;49m\u001b[43m_cuda_graph_capture_health_check\u001b[49m\u001b[43m(\u001b[49m\u001b[43m)\u001b[49m\n\u001b[1;32m    180\u001b[0m     loss \u001b[38;5;241m=\u001b[39m \u001b[38;5;28;01mNone\u001b[39;00m\n\u001b[1;32m    181\u001b[0m     \u001b[38;5;28;01mif\u001b[39;00m closure \u001b[38;5;129;01mis\u001b[39;00m \u001b[38;5;129;01mnot\u001b[39;00m \u001b[38;5;28;01mNone\u001b[39;00m:\n",
      "File \u001b[0;32m~/anaconda3/lib/python3.8/site-packages/torch/optim/optimizer.py:103\u001b[0m, in \u001b[0;36mOptimizer._cuda_graph_capture_health_check\u001b[0;34m(self)\u001b[0m\n\u001b[1;32m    100\u001b[0m capturing \u001b[38;5;241m=\u001b[39m torch\u001b[38;5;241m.\u001b[39mcuda\u001b[38;5;241m.\u001b[39mis_current_stream_capturing()\n\u001b[1;32m    102\u001b[0m \u001b[38;5;28;01mif\u001b[39;00m capturing \u001b[38;5;129;01mand\u001b[39;00m \u001b[38;5;129;01mnot\u001b[39;00m \u001b[38;5;28mself\u001b[39m\u001b[38;5;241m.\u001b[39mdefaults[\u001b[38;5;124m'\u001b[39m\u001b[38;5;124mcapturable\u001b[39m\u001b[38;5;124m'\u001b[39m]:\n\u001b[0;32m--> 103\u001b[0m     \u001b[38;5;28;01mraise\u001b[39;00m \u001b[38;5;167;01mRuntimeError\u001b[39;00m(\u001b[38;5;124m\"\u001b[39m\u001b[38;5;124mAttempting CUDA graph capture of step() for an instance of \u001b[39m\u001b[38;5;124m\"\u001b[39m \u001b[38;5;241m+\u001b[39m\n\u001b[1;32m    104\u001b[0m                        \u001b[38;5;28mself\u001b[39m\u001b[38;5;241m.\u001b[39m\u001b[38;5;18m__class__\u001b[39m\u001b[38;5;241m.\u001b[39m\u001b[38;5;18m__name__\u001b[39m \u001b[38;5;241m+\u001b[39m\n\u001b[1;32m    105\u001b[0m                        \u001b[38;5;124m\"\u001b[39m\u001b[38;5;124m but this instance was constructed with capturable=False.\u001b[39m\u001b[38;5;124m\"\u001b[39m)\n\u001b[1;32m    107\u001b[0m \u001b[38;5;28;01mif\u001b[39;00m (\n\u001b[1;32m    108\u001b[0m     (\u001b[38;5;129;01mnot\u001b[39;00m \u001b[38;5;28mgetattr\u001b[39m(\u001b[38;5;28mself\u001b[39m, \u001b[38;5;124m\"\u001b[39m\u001b[38;5;124m_warned_capturable_if_run_uncaptured\u001b[39m\u001b[38;5;124m\"\u001b[39m, \u001b[38;5;28;01mFalse\u001b[39;00m))\n\u001b[1;32m    109\u001b[0m     \u001b[38;5;129;01mand\u001b[39;00m \u001b[38;5;28mself\u001b[39m\u001b[38;5;241m.\u001b[39mdefaults[\u001b[38;5;124m\"\u001b[39m\u001b[38;5;124mcapturable\u001b[39m\u001b[38;5;124m\"\u001b[39m]\n\u001b[1;32m    110\u001b[0m     \u001b[38;5;129;01mand\u001b[39;00m (\u001b[38;5;129;01mnot\u001b[39;00m capturing)\n\u001b[1;32m    111\u001b[0m ):\n\u001b[1;32m    112\u001b[0m     \u001b[38;5;28mprint\u001b[39m(\u001b[38;5;124m\"\u001b[39m\u001b[38;5;124mWarning: This instance was constructed with capturable=True, but step() \u001b[39m\u001b[38;5;124m\"\u001b[39m \u001b[38;5;241m+\u001b[39m\n\u001b[1;32m    113\u001b[0m           \u001b[38;5;124m\"\u001b[39m\u001b[38;5;124mis running without CUDA graph capture. If you never intend to graph-capture this \u001b[39m\u001b[38;5;124m\"\u001b[39m \u001b[38;5;241m+\u001b[39m\n\u001b[1;32m    114\u001b[0m           \u001b[38;5;124m\"\u001b[39m\u001b[38;5;124minstance, capturable=True can impair performance, and you should set capturable=False.\u001b[39m\u001b[38;5;124m\"\u001b[39m)\n",
      "\u001b[0;31mRuntimeError\u001b[0m: Attempting CUDA graph capture of step() for an instance of Adam but this instance was constructed with capturable=False."
     ]
    }
   ],
   "source": [
    "for epoch in range(500):\n",
    "    model.train()\n",
    "    optimizer.zero_grad()\n",
    "    node_representation, net_representation = model(data, device)\n",
    "    loss_node = criterion_node(node_representation, data['node'].y.to(device))\n",
    "    loss_net = criterion_net(net_representation.flatten(), data['net'].y.to(device))\n",
    "    loss = loss_node + 0.001*loss_net\n",
    "    loss.backward()\n",
    "    optimizer.step()   \n",
    "    \n",
    "    model.eval()\n",
    "    node_representation, net_representation = model(data, device)\n",
    "    val_loss_node = criterion_node(node_representation, data['node'].y.to(device))\n",
    "    val_loss_net = criterion_net(net_representation.flatten(), data['net'].y.to(device))\n",
    "    print(val_loss_node.item(), val_loss_net.item())"
   ]
  },
  {
   "cell_type": "code",
   "execution_count": 100,
   "id": "7817ff7a-6ea3-4e10-b9a5-69b3c78f63cb",
   "metadata": {},
   "outputs": [],
   "source": [
    "torch.save(model, \"trained_dehnn.model\")"
   ]
  },
  {
   "cell_type": "code",
   "execution_count": 144,
   "id": "978cd573-e77d-4944-96f0-5333e1d7d8fa",
   "metadata": {},
   "outputs": [],
   "source": [
    "def compute_accuracy(logits, targets):\n",
    "    predicted_classes = torch.argmax(logits, dim=1)\n",
    "    #predicted_classes = torch.round(logits.flatten())\n",
    "    correct_predictions = (predicted_classes.long() == targets.long()).sum().item()\n",
    "    accuracy = correct_predictions / targets.size(0)\n",
    "    return accuracy"
   ]
  },
  {
   "cell_type": "code",
   "execution_count": 165,
   "id": "cc3ba95a-8ae4-4700-855d-153b1e7b6d32",
   "metadata": {
    "scrolled": true
   },
   "outputs": [
    {
     "data": {
      "text/plain": [
       "0.8965819224032695"
      ]
     },
     "execution_count": 165,
     "metadata": {},
     "output_type": "execute_result"
    }
   ],
   "source": [
    "compute_accuracy(node_representation[data.train_indices].cpu(), data.node_congestion[data.train_indices])"
   ]
  },
  {
   "cell_type": "code",
   "execution_count": 166,
   "id": "9e67dcaa-cd23-401a-a99e-f2d916bf42d9",
   "metadata": {},
   "outputs": [
    {
     "data": {
      "text/plain": [
       "0.8966282593171598"
      ]
     },
     "execution_count": 166,
     "metadata": {},
     "output_type": "execute_result"
    }
   ],
   "source": [
    "compute_accuracy(node_representation[data.valid_indices].cpu(), data.node_congestion[data.valid_indices])"
   ]
  },
  {
   "cell_type": "code",
   "execution_count": 167,
   "id": "2dc1fa27-d6b2-4751-9df5-d0f960ceef07",
   "metadata": {},
   "outputs": [
    {
     "data": {
      "text/plain": [
       "0.8971165537606393"
      ]
     },
     "execution_count": 167,
     "metadata": {},
     "output_type": "execute_result"
    }
   ],
   "source": [
    "compute_accuracy(node_representation[data.test_indices].cpu(), data.node_congestion[data.test_indices])"
   ]
  },
  {
   "cell_type": "code",
   "execution_count": 168,
   "id": "b1130be2-ffbb-453a-b7e6-eabc14b731fd",
   "metadata": {},
   "outputs": [
    {
     "data": {
      "text/plain": [
       "tensor(7.6716, grad_fn=<MeanBackward0>)"
      ]
     },
     "execution_count": 168,
     "metadata": {},
     "output_type": "execute_result"
    }
   ],
   "source": [
    "torch.nn.functional.l1_loss(net_representation.flatten()[data.net_train_indices].cpu(), data.net_hpwl[data.net_train_indices])"
   ]
  },
  {
   "cell_type": "code",
   "execution_count": 169,
   "id": "8f019586-d154-4fe4-9254-e69e21bf550e",
   "metadata": {},
   "outputs": [
    {
     "data": {
      "text/plain": [
       "tensor(7.7605, grad_fn=<MeanBackward0>)"
      ]
     },
     "execution_count": 169,
     "metadata": {},
     "output_type": "execute_result"
    }
   ],
   "source": [
    "torch.nn.functional.l1_loss(net_representation.flatten()[data.net_valid_indices].cpu(), data.net_hpwl[data.net_valid_indices])"
   ]
  },
  {
   "cell_type": "code",
   "execution_count": 170,
   "id": "86488266-3481-4b1d-992a-1b33eb2cd845",
   "metadata": {},
   "outputs": [
    {
     "data": {
      "text/plain": [
       "tensor(7.7583, grad_fn=<MeanBackward0>)"
      ]
     },
     "execution_count": 170,
     "metadata": {},
     "output_type": "execute_result"
    }
   ],
   "source": [
    "torch.nn.functional.l1_loss(net_representation.flatten()[data.net_test_indices].cpu(), data.net_hpwl[data.net_test_indices])"
   ]
  },
  {
   "cell_type": "code",
   "execution_count": 40,
   "id": "7d2db775-2276-4c42-b10b-b0cd6db4ffc9",
   "metadata": {},
   "outputs": [],
   "source": [
    "predicted_classes = torch.argmax(node_representation, dim=1)"
   ]
  },
  {
   "cell_type": "code",
   "execution_count": 82,
   "id": "b4132de1-d3d1-42dc-bed7-e0a496de6704",
   "metadata": {},
   "outputs": [],
   "source": [
    "import matplotlib.pyplot as plt"
   ]
  },
  {
   "cell_type": "code",
   "execution_count": 84,
   "id": "390de1e4-1499-4dbd-b2d9-cd8d681e1b93",
   "metadata": {},
   "outputs": [],
   "source": [
    "pos_lst = data.node_features[:, 7:9]"
   ]
  },
  {
   "cell_type": "code",
   "execution_count": 90,
   "id": "235e4873-9398-4565-a939-bda9dae02f49",
   "metadata": {},
   "outputs": [],
   "source": [
    "x_lst = pos_lst[:, 0].cpu().detach().flatten()\n",
    "y_lst = pos_lst[:, 1].cpu().detach().flatten()"
   ]
  },
  {
   "cell_type": "code",
   "execution_count": null,
   "id": "af5624c3-849b-4a14-a1c8-dd9e5a78d8da",
   "metadata": {},
   "outputs": [],
   "source": [
    "fig, axs = plt.subplots(1, 2, figsize=(20, 10))\n",
    "axs[0].scatter(x_lst, y_lst, c=data.node_congestion.flatten().detach().cpu(), s=1)\n",
    "axs[1].scatter(x_lst, y_lst, c=predicted_classes.detach().cpu(), s=1)"
   ]
  },
  {
   "cell_type": "code",
   "execution_count": 209,
   "id": "4109b66c-b4d6-4122-9c05-2d3d43985f24",
   "metadata": {},
   "outputs": [],
   "source": [
    "from torch_geometric.nn import global_mean_pool, global_max_pool, global_add_pool"
   ]
  }
 ],
 "metadata": {
  "kernelspec": {
   "display_name": "Python 3 (ipykernel)",
   "language": "python",
   "name": "python3"
  },
  "language_info": {
   "codemirror_mode": {
    "name": "ipython",
    "version": 3
   },
   "file_extension": ".py",
   "mimetype": "text/x-python",
   "name": "python",
   "nbconvert_exporter": "python",
   "pygments_lexer": "ipython3",
   "version": "3.8.8"
  }
 },
 "nbformat": 4,
 "nbformat_minor": 5
}
