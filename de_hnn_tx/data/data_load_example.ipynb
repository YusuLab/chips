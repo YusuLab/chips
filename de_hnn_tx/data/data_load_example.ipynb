{
 "cells": [
  {
   "cell_type": "code",
   "execution_count": 1,
   "id": "a5a12f50-2eea-4f2a-ae9a-d34c00163c2b",
   "metadata": {},
   "outputs": [],
   "source": [
    "import os\n",
    "import shutil\n",
    "import numpy as np\n",
    "import pickle\n",
    "import torch\n",
    "import torch.nn\n",
    "from torch_geometric.data import Dataset\n",
    "from torch_geometric.data import Data\n",
    "\n",
    "from sklearn.model_selection import train_test_split\n",
    "from tqdm import tqdm"
   ]
  },
  {
   "cell_type": "code",
   "execution_count": 2,
   "id": "e5ffaadd-2194-471b-8b27-08b5362175d3",
   "metadata": {},
   "outputs": [],
   "source": [
    "from collections import defaultdict"
   ]
  },
  {
   "cell_type": "code",
   "execution_count": 3,
   "id": "841277e9-1b86-4e34-af35-7cbfa45bebb3",
   "metadata": {},
   "outputs": [],
   "source": [
    "%load_ext autoreload\n",
    "%autoreload 2"
   ]
  },
  {
   "cell_type": "code",
   "execution_count": 4,
   "id": "4dfa7321-1bb8-4a81-9cdb-d94e11582255",
   "metadata": {},
   "outputs": [],
   "source": [
    "from pyg_dataset import NetlistDataset"
   ]
  },
  {
   "cell_type": "code",
   "execution_count": 5,
   "id": "d9512420-b35a-4e70-9b7b-d8eb326f48f9",
   "metadata": {},
   "outputs": [
    {
     "name": "stderr",
     "output_type": "stream",
     "text": [
      "100%|████████████████████████████████████████████████████████████████████████████████████████████████████████████████████████████████████████████████████████████████████████████████| 1/1 [00:00<00:00,  6.56it/s]\n"
     ]
    }
   ],
   "source": [
    "dataset = NetlistDataset(data_dir=\"cross_design_data\", load_pe = True, pl = True, processed = False)"
   ]
  },
  {
   "cell_type": "code",
   "execution_count": 142,
   "id": "1e280aa8-1557-40e0-bf47-4413ebe64024",
   "metadata": {},
   "outputs": [],
   "source": [
    "for data in dataset:\n",
    "    num_instances = data.node_congestion.shape[0]\n",
    "    data.num_instances = num_instances\n",
    "    \n",
    "    data.edge_index_source_to_net[1] = data.edge_index_source_to_net[1] - num_instances\n",
    "    data.edge_index_sink_to_net[1] = data.edge_index_sink_to_net[1] - num_instances\n",
    "    \n",
    "    edge_index_node_to_net = torch.cat([data.edge_index_source_to_net, data.edge_index_sink_to_net], dim=1)\n",
    "    #data.edge_index_net_to_node = torch.flip(edge_index_node_to_net, [0])\n",
    "    \n",
    "    data.edge_index_source_sink = None\n",
    "    data.edge_index_sink_source = None"
   ]
  },
  {
   "cell_type": "code",
   "execution_count": 47,
   "id": "50dd34b7-cc67-4021-8efa-c2fab821dc8e",
   "metadata": {},
   "outputs": [],
   "source": [
    "design_indices_dict = defaultdict(list)\n",
    "for idx in range(len(dataset)):\n",
    "    data = dataset[idx]\n",
    "    design_indices_dict[data['design_index']].append(idx)"
   ]
  },
  {
   "cell_type": "code",
   "execution_count": 51,
   "id": "26314d85-e6b0-4411-9f47-6a70b31631b7",
   "metadata": {},
   "outputs": [],
   "source": [
    "#start building split index\n",
    "all_train_indices = []\n",
    "all_valid_indices = []\n",
    "all_test_indices = []\n",
    "\n",
    "for design, design_indices in design_indices_dict.items():\n",
    "    train_indices, test_indices = train_test_split(design_indices, test_size=0.2, random_state=1)\n",
    "    test_indices, valid_indices = train_test_split(test_indices, test_size=0.5, random_state=1)\n",
    "    all_train_indices.append(train_indices)\n",
    "    all_valid_indices.append(valid_indices)\n",
    "    all_test_indices.append(test_indices)"
   ]
  },
  {
   "cell_type": "code",
   "execution_count": 52,
   "id": "497b0251-b18d-459d-b44e-dfe37f04cf31",
   "metadata": {},
   "outputs": [],
   "source": [
    "all_train_indices = np.concatenate(all_train_indices)\n",
    "all_valid_indices = np.concatenate(all_valid_indices)\n",
    "all_test_indices = np.concatenate(all_test_indices)"
   ]
  },
  {
   "cell_type": "code",
   "execution_count": 54,
   "id": "0c3eb3f2-81f9-42d4-b42c-224cb361116b",
   "metadata": {},
   "outputs": [],
   "source": [
    "pickle.dump((all_train_indices, all_valid_indices, all_test_indices), open(\"cross_design_data_split.pt\", \"wb\"))"
   ]
  },
  {
   "cell_type": "code",
   "execution_count": 57,
   "id": "70d06216-54ae-4d33-bf16-0a3dbc5afaa7",
   "metadata": {},
   "outputs": [],
   "source": [
    "np.random.shuffle(all_train_indices)"
   ]
  },
  {
   "cell_type": "code",
   "execution_count": 66,
   "id": "ccc1b435-fc8f-48af-8576-f027a2aee63e",
   "metadata": {},
   "outputs": [
    {
     "name": "stderr",
     "output_type": "stream",
     "text": [
      "100%|███████████████████████████████████████████████████████████████████████████████████████████████████████████████████████████████████████████████| 150/150 [00:00<00:00, 4591.06it/s]\n"
     ]
    }
   ],
   "source": [
    "for design_fp in tqdm(os.listdir(\"cross_design_data/\")):\n",
    "    new_directory_path = f'processed_datasets/{design_fp}'\n",
    "    os.makedirs(new_directory_path, exist_ok=True)\n",
    "\n",
    "    source_file_path = f'cross_design_data/{design_fp}/pyg_data.pkl'  \n",
    "    destination_file_path = os.path.join(new_directory_path, os.path.basename(source_file_path))\n",
    "\n",
    "    shutil.move(source_file_path, destination_file_path)"
   ]
  },
  {
   "cell_type": "code",
   "execution_count": 6,
   "id": "ebcfaa30-738b-46a6-b66d-9e40cef30243",
   "metadata": {},
   "outputs": [],
   "source": [
    "data = dataset[0]"
   ]
  },
  {
   "cell_type": "code",
   "execution_count": 7,
   "id": "28160512-bddb-485f-9534-f39fb7232351",
   "metadata": {},
   "outputs": [
    {
     "data": {
      "text/plain": [
       "Data(node_features=[708535, 19], net_features=[939231, 2], edge_index_source_sink=[2, 2523118], edge_index_sink_to_net=[2, 2523118], edge_index_source_to_net=[2, 939231], node_congestion=[708535], net_hpwl=[939231], batch=[708535], num_vn=10093, design_index=117)"
      ]
     },
     "execution_count": 7,
     "metadata": {},
     "output_type": "execute_result"
    }
   ],
   "source": [
    "data"
   ]
  },
  {
   "cell_type": "code",
   "execution_count": 135,
   "id": "ae42e9ce-3730-4b27-9a86-49cac0239db3",
   "metadata": {},
   "outputs": [],
   "source": [
    "from torch_geometric.data import HeteroData"
   ]
  },
  {
   "cell_type": "code",
   "execution_count": 136,
   "id": "1a9d0b2a-ffa9-4b0c-9d31-d7479bb47148",
   "metadata": {},
   "outputs": [],
   "source": [
    "h_data_lst = []\n",
    "for data in dataset:\n",
    "    \n",
    "    h_data = HeteroData()\n",
    "    h_data['node'].x = data.node_features\n",
    "    h_data['node'].y = data.node_congestion\n",
    "    \n",
    "    h_data['net'].x = data.net_features\n",
    "    h_data['net'].y = data.net_hpwl\n",
    "    \n",
    "    h_data['node', 'as_a_sink_of', 'net'].edge_index = data.edge_index_sink_to_net\n",
    "    h_data['node', 'as_a_source_of', 'net'].edge_index = data.edge_index_source_to_net\n",
    "    h_data['net', 'connected_to', 'node'].edge_index = data.edge_index_net_to_node\n",
    "\n",
    "    h_data.batch = data.batch\n",
    "    h_data.num_vn = data.num_vn\n",
    "    h_data_lst.append(h_data)"
   ]
  },
  {
   "cell_type": "code",
   "execution_count": 37,
   "id": "4e2660a6-1f20-48a1-ae2e-c9f9a330118e",
   "metadata": {},
   "outputs": [],
   "source": [
    "torch.save(h_data, \"h_data.pt\")"
   ]
  },
  {
   "cell_type": "code",
   "execution_count": 92,
   "id": "4137d2c9-8bc2-4702-bfe1-bb95f2550a95",
   "metadata": {},
   "outputs": [],
   "source": [
    "from torch_geometric.loader import NeighborLoader"
   ]
  },
  {
   "cell_type": "code",
   "execution_count": 137,
   "id": "18229896-4c19-4dba-bfc3-e8353916fc25",
   "metadata": {},
   "outputs": [],
   "source": [
    "l_data = h_data"
   ]
  },
  {
   "cell_type": "code",
   "execution_count": null,
   "id": "7ecb2b9d-9bdc-4c73-adaa-b881e0d3c293",
   "metadata": {},
   "outputs": [],
   "source": [
    "loader = NeighborLoader(\n",
    "                l_data,\n",
    "                num_neighbors={key: [10] * 4 for key in h_data.edge_types},\n",
    "                input_nodes=('net', mask),\n",
    "                batch_size=6400 \n",
    "            )"
   ]
  },
  {
   "cell_type": "code",
   "execution_count": 139,
   "id": "16f96759-bb86-485c-8f2e-4bc4e9c40ad6",
   "metadata": {},
   "outputs": [],
   "source": [
    "for data in loader:\n",
    "    break"
   ]
  },
  {
   "cell_type": "code",
   "execution_count": 140,
   "id": "4973c640-c46c-458f-ba49-5aca5e21b4b9",
   "metadata": {},
   "outputs": [
    {
     "data": {
      "text/plain": [
       "HeteroData(\n",
       "  batch=[708535],\n",
       "  num_vn=10093,\n",
       "  node={\n",
       "    x=[0, 19],\n",
       "    y=[0],\n",
       "    n_id=[0],\n",
       "  },\n",
       "  net={\n",
       "    x=[1280, 2],\n",
       "    y=[1280],\n",
       "    n_id=[1280],\n",
       "    input_id=[1280],\n",
       "    batch_size=1280,\n",
       "  },\n",
       "  (node, as_a_sink_of, net)={\n",
       "    edge_index=[2, 0],\n",
       "    e_id=[0],\n",
       "  },\n",
       "  (node, as_a_source_of, net)={\n",
       "    edge_index=[2, 0],\n",
       "    e_id=[0],\n",
       "  },\n",
       "  (net, connected_to, node)={\n",
       "    edge_index=[2, 0],\n",
       "    e_id=[0],\n",
       "  }\n",
       ")"
      ]
     },
     "execution_count": 140,
     "metadata": {},
     "output_type": "execute_result"
    }
   ],
   "source": [
    "data"
   ]
  },
  {
   "cell_type": "code",
   "execution_count": 125,
   "id": "ae2827c6-74d4-4a32-976b-9b744193ae00",
   "metadata": {},
   "outputs": [],
   "source": [
    "data.batch = data.batch[data['node'].n_id]"
   ]
  },
  {
   "cell_type": "code",
   "execution_count": 42,
   "id": "b5d7307b-1a04-4505-beb2-8b5ee0987f34",
   "metadata": {},
   "outputs": [],
   "source": [
    "from torch_geometric.datasets import OGB_MAG\n",
    "from torch_geometric.loader import NeighborLoader\n",
    "\n",
    "hetero_data = OGB_MAG(\"test\")[0]\n",
    "\n",
    "loader = NeighborLoader(\n",
    "    hetero_data,\n",
    "    num_neighbors={key: [30] * 2 for key in hetero_data.edge_types},\n",
    "    batch_size=128,\n",
    "    input_nodes=('paper', hetero_data['paper'].train_mask),\n",
    ")"
   ]
  },
  {
   "cell_type": "code",
   "execution_count": 48,
   "id": "e5a133d6-d744-41d9-9ec5-d6980d6b2ae9",
   "metadata": {},
   "outputs": [
    {
     "data": {
      "text/plain": [
       "HeteroData(\n",
       "  paper={\n",
       "    x=[736389, 128],\n",
       "    year=[736389],\n",
       "    y=[736389],\n",
       "    train_mask=[736389],\n",
       "    val_mask=[736389],\n",
       "    test_mask=[736389],\n",
       "  },\n",
       "  author={ num_nodes=1134649 },\n",
       "  institution={ num_nodes=8740 },\n",
       "  field_of_study={ num_nodes=59965 },\n",
       "  (author, affiliated_with, institution)={ edge_index=[2, 1043998] },\n",
       "  (author, writes, paper)={ edge_index=[2, 7145660] },\n",
       "  (paper, cites, paper)={ edge_index=[2, 5416271] },\n",
       "  (paper, has_topic, field_of_study)={ edge_index=[2, 7505078] }\n",
       ")"
      ]
     },
     "execution_count": 48,
     "metadata": {},
     "output_type": "execute_result"
    }
   ],
   "source": [
    "hetero_data"
   ]
  },
  {
   "cell_type": "code",
   "execution_count": 103,
   "id": "62987404-b87c-471a-a325-17b7f59020ab",
   "metadata": {},
   "outputs": [],
   "source": [
    "mask = torch.tensor([True for idx in range(len(h_data['net'].x))])"
   ]
  },
  {
   "cell_type": "code",
   "execution_count": null,
   "id": "8ef18fbd-0111-4eba-98d3-b70dffbf4e76",
   "metadata": {},
   "outputs": [],
   "source": []
  }
 ],
 "metadata": {
  "kernelspec": {
   "display_name": "Python 3 (ipykernel)",
   "language": "python",
   "name": "python3"
  },
  "language_info": {
   "codemirror_mode": {
    "name": "ipython",
    "version": 3
   },
   "file_extension": ".py",
   "mimetype": "text/x-python",
   "name": "python",
   "nbconvert_exporter": "python",
   "pygments_lexer": "ipython3",
   "version": "3.8.8"
  }
 },
 "nbformat": 4,
 "nbformat_minor": 5
}
